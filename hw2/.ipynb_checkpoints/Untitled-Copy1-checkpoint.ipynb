{
 "cells": [
  {
   "cell_type": "markdown",
   "metadata": {},
   "source": [
    "# Домашнее задание 2. Извлечение коллокаций + NER\n",
    "\n",
    "## Описание\n",
    "\n",
    "Выберите корпус отзывов на товары одной из категорий Amazon: http://jmcauley.ucsd.edu/data/amazon/\n",
    "\n",
    "(В низу страницы по ссылке есть код для загрузки данных, можете им воспользоваться)\n",
    "\n",
    "Допустим, что вам нужно подготовить аналитический отчет по этим отзывам — например, для производителя нового продукта этой категории. Для этого будем искать упоминания товаров в отзывах (будем считать их NE). Учтите, что упоминание может выглядеть не только как \"Iphone 10\", но и как \"модель\", \"телефон\" и т.п.\n",
    "\n",
    "Важное замечание: в задании приводятся примеры решений, вы можете их использовать!\n",
    "\n",
    "**(3 балла)** Предложите 3 способа найти упоминания товаров в отзывах. Например, использовать bootstrapping: составить шаблоны вида \"холодильник XXX\", найти все соответствующие n-граммы и выделить из них называние товара. Могут помочь заголовки и дополнительные данные с Amazon (Metadata здесь) Какие данные необходимы для каждого из способов? Какие есть достоинства/недостатки?\n",
    "\n",
    "**(2 балла)** Реализуйте один из предложенных вами способов.\n",
    "\n",
    "Примеры в качестве подсказки (можно использовать один из них):\n",
    "\n",
    "написать правила с помощью natasha/yargy\n",
    "составить мини-словарь сущностей/дескрипторов, расширить с помощью эмбеддингов (например, word2vec)\n",
    "\n",
    "\n",
    "**(1 балл)** Соберите n-граммы с полученными сущностями (NE + левый сосед / NE + правый сосед)\n",
    "\n",
    "**(3 балла)** Ранжируйте n-граммы с помощью 3 коллокационных метрик (t-score, PMI и т.д.). Не забудьте про частотный фильтр / сглаживание. Выберите лучший результат (какая метрика ранжирует выше коллокации, подходящие для отчёта).\n",
    "\n",
    "**(1 балл)** Сгруппируйте полученные коллокации по NE, выведите примеры для 5 товаров. Должны получиться примерно такие группы:\n",
    "\n",
    "watch \n",
    "\n",
    "\n",
    "stylish watch, \n",
    "good watches, \n",
    "great watch, \n",
    "love this watch\n",
    "...\n",
    "\n",
    "**Бонус (2 балла):** если придумаете способ объединить синонимичные упоминания (например, \"Samsung Galaxy Watch\", \"watch\", \"smartwatch\")"
   ]
  },
  {
   "cell_type": "code",
   "execution_count": 5,
   "metadata": {},
   "outputs": [],
   "source": [
    "import os\n",
    "import re\n",
    "import json\n",
    "import gzip\n",
    "import pandas as pd\n",
    "from urllib.request import urlopen\n",
    "import pymorphy2\n",
    "import random\n",
    "import numpy as np\n",
    "from tqdm import tqdm\n",
    "from collections import defaultdict\n",
    "\n",
    "import nltk\n",
    "from nltk.collocations import *"
   ]
  },
  {
   "cell_type": "code",
   "execution_count": 6,
   "metadata": {},
   "outputs": [],
   "source": [
    "# !wget http://deepyeti.ucsd.edu/jianmo/amazon/metaFiles2/meta_Luxury_Beauty.json.gz\n",
    "# !wget http://deepyeti.ucsd.edu/jianmo/amazon/categoryFiles/Luxury_Beauty.json.gz"
   ]
  },
  {
   "cell_type": "markdown",
   "metadata": {},
   "source": [
    "https://colab.research.google.com/drive/1Zv6MARGQcrBbLHyjPVVMZVnRWsRnVMpV\n",
    "\n",
    "\n",
    "https://colab.research.google.com/drive/12r4KJVbNqjjhiZ6aeiaG809x4-Tg5fm8?usp=sharing#scrollTo=EdaX7BmI8OW_\n",
    "\n",
    "https://nijianmo.github.io/amazon/index.html\n",
    "\n",
    "https://nijianmo.github.io/amazon/index.html#files\n",
    "\n",
    "https://nijianmo.github.io/amazon/index.html#code\n",
    "\n",
    "\n",
    "https://github.com/named-entity/hse-nlp/blob/master/4th_year/hw/hw2.md"
   ]
  },
  {
   "cell_type": "code",
   "execution_count": null,
   "metadata": {},
   "outputs": [],
   "source": []
  },
  {
   "cell_type": "code",
   "execution_count": 12,
   "metadata": {},
   "outputs": [
    {
     "name": "stderr",
     "output_type": "stream",
     "text": [
      "\n",
      "0it [00:00, ?it/s]\u001b[A\n",
      "981it [00:00, 9807.83it/s]\u001b[A\n",
      "2700it [00:00, 11256.02it/s]\u001b[A\n",
      "4854it [00:00, 13137.42it/s]\u001b[A\n",
      "6863it [00:00, 14659.28it/s]\u001b[A\n",
      "9009it [00:00, 16196.79it/s]\u001b[A\n",
      "12299it [00:00, 14108.76it/s]\u001b[A\n"
     ]
    }
   ],
   "source": [
    "data = []\n",
    "with gzip.open('meta_Luxury_Beauty.json.gz', 'r') as f:\n",
    "    for l in tqdm(f):\n",
    "        data.append(json.loads(l))"
   ]
  },
  {
   "cell_type": "code",
   "execution_count": 13,
   "metadata": {},
   "outputs": [
    {
     "name": "stdout",
     "output_type": "stream",
     "text": [
      "{'category': [], 'tech1': '', 'description': ['After a long day of handling thorny situations, our new hand therapy pump is just the help you need. It contains shea butter as well as extracts of yarrow, clover and calendula to help soothe and condition work-roughened hands.', 'By Crabtree & Evelyn', 'The aromatic benefits of herbs are varied and far-reaching, so we combined a whole bunch of them into one restoratively fragrant line-up straight from the garden.', 'We&#039;ve formulated our Gardeners Hand Therapy with Myrrh Extract to help condition nails and cuticles as well as skin super hydrators macadamia seed oil and shea butter to help replenish lost moisture. Rich in herbal extracts like cooling cucumber and rosemary leaf  a favourite for antioxidants  to help protect hands against daily urban and environmental stresses while the hydrating power of Vitamin E, Hyaluronic Acid and Ceramides contribute to improve the skins natural moisture barrier with this garden-inspired treatment. Skin is left silky-soft and delicately scented.', 'How to use:', 'Dab a pea-sized amount to palms and work over skin and nails. Combine with Gardeners Hand Wash and Hand Scrub to get silky skin in three herb-infused steps.', 'Originally created to appeal to a horticulturists wealth of knowledge about the healing power of herbs, this botanical range is formulated with cleansing cucumber extract, purifying rosemary extract, oak moss and refreshing sage extract.', 'We search the world for natural ingredients and fragrance journeys that enable our customers to live a life cultivated. Inspired by the Crabapple Tree, the original species from which all cultivated apple trees have derived, and John Evelyn, the 17th century renaissance Englishman whose motto Explore Everything. Keep The Best has provided inspiration from our founding to this day.'], 'fit': '', 'title': \"Crabtree &amp; Evelyn - Gardener's Ultra-Moisturising Hand Therapy Pump - 250g/8.8 OZ\", 'also_buy': ['B00GHX7H0A', 'B00FRERO7G', 'B00R68QXCS', 'B000Z65AZE', 'B07GFHJRMX', 'B074KGBGL7', 'B00R68QXJG', 'B00025WYZC', 'B07H3W9BM5', 'B00KOBT82G', 'B072N2M1P6', 'B071G8FG2N', 'B00FASVFI8', 'B00GHXE4N8', 'B00EPG2QJI', 'B01MQ4MEFE', 'B01M8ML0SY', 'B074KHCPLH', 'B004XQWY4W', 'B00FASV6UU', 'B01M31HJBJ', 'B00KC8TU7O', 'B00B9TU5T2', 'B00K75EZ04', 'B000Q2Y0FI', 'B00FEGOCCM', 'B00EPFXFBW', 'B00H6SQY3Q', 'B00HZAOWUC', 'B07GFJF1DN', 'B001WBS68E', 'B074KJZCPH'], 'tech2': '', 'brand': '', 'feature': [], 'rank': '4,324 in Beauty & Personal Care (', 'also_view': ['B00FRERO7G', 'B00GHX7H0A', 'B07GFHJRMX', 'B00TJ3NBN2', 'B00KOBT82G', 'B00R68QXCS', 'B074KGBGL7', 'B075MH4Q9L', 'B07H3W9BM5', 'B07GFJF1DN', 'B00KC8TPVA', 'B07DB7KXFV', 'B07DCCRGZT', 'B00GHX58LK', 'B077GXQ2TH', 'B00GHX52MK', 'B01MQ4MEFE', 'B00GHXE4N8', 'B07FYFXBK8', 'B00FEGOCCM', 'B00FASVFI8', 'B074KFH9JN', 'B071G8FG2N', 'B074KGN1BT', 'B00GHX5HZC', 'B00B9TU5T2', 'B074KM26WX', 'B074KGQ65V', 'B01M8ML0SY', 'B076YKGPY5', 'B00EPG2QJI', 'B074KHCPLH', 'B075YMZVGF', 'B00K1C8V1W', 'B074KDPT26', 'B07CCNVW87', 'B074KGQ5LF', 'B00GHX8I6M', 'B07JMLGRKY', 'B07C92VLKM', 'B00KC8TU7O', 'B00025WYZC', 'B074KJZCPH', 'B074KHCPMV', 'B00GHXHPEI', 'B07K2WRDBS', 'B00FASV6UU', 'B001WBS68E', 'B074KMD9QM', 'B076YN8DDY', 'B074KHDYRX', 'B00GHXIBGE'], 'details': {'\\n    Product Dimensions: \\n    ': '2.2 x 2.2 x 7 inches ; 8.8 ounces', 'Shipping Weight:': '14.4 ounces (', 'Domestic Shipping: ': 'Item can be shipped within U.S.', 'International Shipping: ': 'This item can be shipped to select countries outside of the U.S.', 'ASIN:': 'B00004U9V2', 'Item model number:': '4113'}, 'main_cat': 'Luxury Beauty', 'similar_item': '', 'date': '', 'price': '$30.00', 'asin': 'B00004U9V2', 'imageURL': ['https://images-na.ssl-images-amazon.com/images/I/41ClX6BRvZL._SX50_SY65_CR,0,0,50,65_.jpg', 'https://images-na.ssl-images-amazon.com/images/I/510giIO5cFL._SX50_SY65_CR,0,0,50,65_.jpg', 'https://images-na.ssl-images-amazon.com/images/I/414gBlQ6F9L._SX50_SY65_CR,0,0,50,65_.jpg', 'https://images-na.ssl-images-amazon.com/images/I/51jNGOh1f9L._SX50_SY65_CR,0,0,50,65_.jpg', 'https://images-na.ssl-images-amazon.com/images/I/31f8YZgUBhL._SX50_SY65_CR,0,0,50,65_.jpg'], 'imageURLHighRes': ['https://images-na.ssl-images-amazon.com/images/I/41ClX6BRvZL.jpg', 'https://images-na.ssl-images-amazon.com/images/I/510giIO5cFL.jpg', 'https://images-na.ssl-images-amazon.com/images/I/414gBlQ6F9L.jpg', 'https://images-na.ssl-images-amazon.com/images/I/51jNGOh1f9L.jpg', 'https://images-na.ssl-images-amazon.com/images/I/31f8YZgUBhL.jpg']}\n"
     ]
    }
   ],
   "source": [
    "for i,d in enumerate(data):\n",
    "    print(d)\n",
    "    break"
   ]
  },
  {
   "cell_type": "code",
   "execution_count": 70,
   "metadata": {},
   "outputs": [
    {
     "name": "stdout",
     "output_type": "stream",
     "text": [
      "574628 574628 574628\n"
     ]
    }
   ],
   "source": [
    "data\n",
    "overall = []\n",
    "reviewText = []\n",
    "summary = []\n",
    "\n",
    "\n",
    "for i,d in enumerate(data):\n",
    "    overall.append(d['overall'])\n",
    "    if d.get('reviewText'):\n",
    "        reviewText.append(d['reviewText'])\n",
    "    else:\n",
    "        reviewText.append('no reviewText')\n",
    "    if d.get('summary'):\n",
    "        summary.append(d['summary'])\n",
    "    else:\n",
    "        summary.append('no summary')\n",
    "\n",
    "\n",
    "print(len(overall), len(reviewText), len(summary))\n",
    "df = pd.DataFrame({'overall': overall,\n",
    "                  'reviewText': reviewText,\n",
    "                  'summary': summary})"
   ]
  },
  {
   "cell_type": "code",
   "execution_count": 71,
   "metadata": {},
   "outputs": [
    {
     "data": {
      "text/html": [
       "<div>\n",
       "<style scoped>\n",
       "    .dataframe tbody tr th:only-of-type {\n",
       "        vertical-align: middle;\n",
       "    }\n",
       "\n",
       "    .dataframe tbody tr th {\n",
       "        vertical-align: top;\n",
       "    }\n",
       "\n",
       "    .dataframe thead th {\n",
       "        text-align: right;\n",
       "    }\n",
       "</style>\n",
       "<table border=\"1\" class=\"dataframe\">\n",
       "  <thead>\n",
       "    <tr style=\"text-align: right;\">\n",
       "      <th></th>\n",
       "      <th>overall</th>\n",
       "      <th>reviewText</th>\n",
       "      <th>summary</th>\n",
       "    </tr>\n",
       "  </thead>\n",
       "  <tbody>\n",
       "    <tr>\n",
       "      <th>0</th>\n",
       "      <td>2.0</td>\n",
       "      <td>I bought two of these 8.5 fl oz hand cream, an...</td>\n",
       "      <td>dispensers don't work</td>\n",
       "    </tr>\n",
       "    <tr>\n",
       "      <th>1</th>\n",
       "      <td>5.0</td>\n",
       "      <td>Believe me, over the years I have tried many, ...</td>\n",
       "      <td>Best hand cream ever.</td>\n",
       "    </tr>\n",
       "    <tr>\n",
       "      <th>2</th>\n",
       "      <td>5.0</td>\n",
       "      <td>Great hand lotion</td>\n",
       "      <td>Five Stars</td>\n",
       "    </tr>\n",
       "    <tr>\n",
       "      <th>3</th>\n",
       "      <td>5.0</td>\n",
       "      <td>This is the best for the severely dry skin on ...</td>\n",
       "      <td>Five Stars</td>\n",
       "    </tr>\n",
       "    <tr>\n",
       "      <th>4</th>\n",
       "      <td>5.0</td>\n",
       "      <td>The best non- oily hand cream ever. It heals o...</td>\n",
       "      <td>I always have a backup ready.</td>\n",
       "    </tr>\n",
       "  </tbody>\n",
       "</table>\n",
       "</div>"
      ],
      "text/plain": [
       "   overall                                         reviewText  \\\n",
       "0      2.0  I bought two of these 8.5 fl oz hand cream, an...   \n",
       "1      5.0  Believe me, over the years I have tried many, ...   \n",
       "2      5.0                                  Great hand lotion   \n",
       "3      5.0  This is the best for the severely dry skin on ...   \n",
       "4      5.0  The best non- oily hand cream ever. It heals o...   \n",
       "\n",
       "                         summary  \n",
       "0          dispensers don't work  \n",
       "1          Best hand cream ever.  \n",
       "2                     Five Stars  \n",
       "3                     Five Stars  \n",
       "4  I always have a backup ready.  "
      ]
     },
     "execution_count": 71,
     "metadata": {},
     "output_type": "execute_result"
    }
   ],
   "source": [
    "df.head(5)"
   ]
  },
  {
   "cell_type": "code",
   "execution_count": 75,
   "metadata": {},
   "outputs": [
    {
     "data": {
      "text/plain": [
       "(574628, 3)"
      ]
     },
     "execution_count": 75,
     "metadata": {},
     "output_type": "execute_result"
    }
   ],
   "source": [
    "df.shape"
   ]
  },
  {
   "cell_type": "code",
   "execution_count": 86,
   "metadata": {},
   "outputs": [
    {
     "name": "stdout",
     "output_type": "stream",
     "text": [
      "['hello', 'how', 'are', 'you', 'mwlkdj', '78231']\n",
      "['hello', 'how', 'are', 'you', 'mwlkdj', '78231']\n"
     ]
    }
   ],
   "source": [
    "def bt(token_pattern=r'(?u)\\b\\w\\w+\\b'):\n",
    "    return re.compile(token_pattern).findall\n",
    "tokenizer=bt()\n",
    "print(tokenizer('hello how are you ?.mwlkdj----- +78231'))\n",
    " \n",
    "def tokenize_line(line: str):\n",
    "    if isinstance(line, str):\n",
    "        return [w.lower() for w in tokenizer(line)]\n",
    "    else:\n",
    "        return 'нет текста'\n",
    "print(tokenize_line('hello how are you ?.mwlkdj----- +78231'))\n",
    " \n",
    " \n",
    "class Lemmatizer:\n",
    "    def __init__(self):\n",
    "        self.morph = pymorphy2.MorphAnalyzer()\n",
    "      \n",
    "    def __call__(self, x: str) -> str:\n",
    "        lemma = self.morph.parse(x)[0].normal_form\n",
    "        return lemma\n",
    "    \n",
    "lemmatizer = Lemmatizer()\n",
    " \n",
    " \n",
    "def lemmatize_df(df, text_column):\n",
    "    unique_toks = set([])\n",
    "    for line in df[text_column]:\n",
    "        for w in line:\n",
    "            if w not in unique_toks:\n",
    "                unique_toks.add(w)\n",
    "    print('made unique tokens set')\n",
    "    t_l = {}\n",
    "    for ut in unique_toks:\n",
    "        t_l[ut] = lemmatizer(ut)\n",
    "    print('made tokens-lemmas dict')\n",
    "    return unique_toks, t_l\n",
    " \n",
    "def lemmatize_line(t_l, line):\n",
    "    return ' '.join([t_l[w] for w in line])"
   ]
  },
  {
   "cell_type": "code",
   "execution_count": 87,
   "metadata": {},
   "outputs": [
    {
     "name": "stderr",
     "output_type": "stream",
     "text": [
      "/opt/anaconda3/lib/python3.7/site-packages/ipykernel_launcher.py:4: SettingWithCopyWarning: \n",
      "A value is trying to be set on a copy of a slice from a DataFrame\n",
      "\n",
      "See the caveats in the documentation: http://pandas.pydata.org/pandas-docs/stable/user_guide/indexing.html#returning-a-view-versus-a-copy\n",
      "  after removing the cwd from sys.path.\n"
     ]
    }
   ],
   "source": [
    "df['tokens'] = ['no text'] * df.shape[0]\n",
    "for i, com in enumerate(df['reviewText']):\n",
    "    if isinstance(com, str):\n",
    "        df['tokens'][i] = tokenize_line(com)"
   ]
  },
  {
   "cell_type": "code",
   "execution_count": null,
   "metadata": {},
   "outputs": [],
   "source": [
    "unique_toks, t_l = lemmatize_df(df, 'tokens')\n",
    "df['lemmas'] = df['tokens'].apply(lambda x: lemmatize_line(t_l, x))"
   ]
  },
  {
   "cell_type": "code",
   "execution_count": null,
   "metadata": {},
   "outputs": [],
   "source": [
    "df.head(5)"
   ]
  },
  {
   "cell_type": "code",
   "execution_count": null,
   "metadata": {},
   "outputs": [],
   "source": [
    "texts = df['lemmas']\n",
    "# Коллекция метрик\n",
    "bigram_measures = nltk.collocations.BigramAssocMeasures()\n",
    "# Экстрактор коллокаций\n",
    "finder2 = BigramCollocationFinder.from_documents(texts)"
   ]
  },
  {
   "cell_type": "code",
   "execution_count": 79,
   "metadata": {},
   "outputs": [
    {
     "name": "stdout",
     "output_type": "stream",
     "text": [
      "[\"I bought two of these 8.5 fl oz hand cream, and neither of the dispensers work.  The hand cream is wonderful, but very thick, so I don't see I can get much out by shaking it out, since the dispensers seem to be non-operable.\", 'Believe me, over the years I have tried many, many different hand creams. I am one of those people whose hands get so dry they have little cracks all over them.\\n\\nOf all the hand creams, this is the best. It really moisturizes but doesn\\'t leave your hands feeling greasy. And it lasts. I think a lot of lotions just have too much water in them. It has a very nice, subtle scent. I have to avoid a lot of lotions just because the scent is too strong!\\n\\nI am overall very \"frugal\" but I think this cream is worth the money.', 'Great hand lotion', 'This is the best for the severely dry skin on my hands', 'The best non- oily hand cream ever. It heals overnight.', \"Ive used this lotion for many years. I try others occasionally and always come back to Gardners. Please don't change a thing.\", 'Works great for dry hands.', 'The best hand cream ever.', 'LOVE THIS SCENT!!  But Crabtree and Evelyn make so many.  Washes off easily too!!', 'Its a great moisturizer especially for gardners', 'This hand cream is the best! Have been using it for years. Keeps my hands soft all day', 'I am a healthcare care professional that suffers from dry hands.  This hand lotion has changed my life.  I keep it on the desk nearby.  The hand therapy instantly improves the discomfort from dry hands.', 'have used on and off for years. Product is good for dry skin. I like the smell but it may be strong for some.', 'Great hand cream', \"This is my favorite lotion!  I have loved it for many years. The smell is one that men and women would like.  It's not a fruity or perfume scent, more herbal?  Its hard to explain.  The lotion is just amazing though. Not greasy at all.  You have to try it at least once :)\", 'Soothing! Love the way it smells', 'My wife loves the Gardeners hand cream and liquid soap.', 'I always loved this lotion ,glad you had it', 'Absolutely great. Cleared my hands in just three to four applications. Would definitely recommend to others with dry rough hands.', 'SOOOO not worth the money. Packaging is aweful. Screw top way too small and this is hand cream not paint. Felt greasy although the review said it would not. Disappointed.', 'use all the time', \"I haven't found anything I like as well for my dry hands and nails.. and I love the pump bottle\", 'Bought this for my mom - she loves the stuff.', \"I have used this cream for decades, but this particular cream is NOTHING like the old one.  The old cream had an appealing soft scent.  This one has an offensive male cologne smell.  It is so strong, I had to wash my hands immediately.  The old cream visibly hydrated my skin.  Not this one.\\nI am guessing this cream is a cheap knockoff.  Don't waste your money!!!!!\", 'My all-time favorite hand lotion. Smells heavenly and has just the right texture, not too heavy but not too light.', 'Best hand cream EVER!', 'Love to have this sitting on my desk!', \"I love it because it does not leave skin feeling greasy.  I don't like that it is so expensive.\", \"This is about the only lotion that gets my hands thru cold New Hampshire winters.  It's not oily. And doesn't leave my hands wanting more.  It is a life saver.\", \"Pleasing fragrance, but really didn't do much for rough dry hands.  I had higher hopes.  Maybe too high?\", 'I love this hand cream, especially the fragrance. Its light and herby. I tsoftens my hands without making them greasy. However, I did not pay attention to the size, and its a VERY small quantity for $8. So, the cream is great, but its not a good value.', 'This smells like mens cologne. I thought it would smell more feminine disappointed.', \"I am sensitive to strong or artificial scents, and this always has a nice level.  It provides long-lasting moisture, but not greasy after a minute or so (I scrub my hands and nails with a brush after gardening/cleaning, dry them somewhat and apply).  At the promotional price, it was an excellent value for something I've loved using for over 20 years.\", \"Like many, my hands get extra dry in the winter.  It was so bad this year, none of my fingerprints were unlocking my phone anymore.  So annoying.  I'd moisturize at night, but it wasn't so helpful.  Someone left a bottle of this C&E moisturizer in the bathroom at work and after using it about once a day after washing my hands (it was annoying to take off rings more than once), my fingerprints started working again.  I wasn't expecting that!\", 'Well worth the price, as I know my wife scrapes the bottle to reach the last dollop of Crabtree & Evelyn hand cream. She keeps one in her car and one on her desk. Gifts are easy when you know she enjoys Crabtree & Evelyn products so much.', 'Used this for years. Handy to keep in my purse.', 'This is a wonderful hand cream that really works wonders. It softens and moisturizers. I have used it for years and now find it easy to order on Amazon.', 'Love this stuff!  Just wish I paid attention to the size.', 'Best hand cream for winter dry hands!  Love it!!', 'Great but expensive.', \"This works very well without leaving your hands feeling greasy. It's perfect actually.\", 'Love the stuff, pricey.', \"I have some gold plated rings and using this made the gold plated peel right off. No idea why but it's a little frustrating and disconcerting.\", \"The product is great, however the pump doesn't work at all. The pump won't release so none of my favorite lotion for me.\\nMy husband finally got the pump to release, but it does not work smoothly like previous pumps.\", 'Love this hand lotion - the scent is subtle and not overwhelming and it works. The size is great for carrying it in my handbag.', 'Pretty good cream. Strong smell. Not worth the price. Just get the drugstore stuff.', 'Great', 'Best product to heal dry cracks in hands.', 'One of my favorite hand lotion and would keep buying.  The smell is neutral and pleasant.', 'The best!', 'The best!', \"Actually bought this to share with my husband as he loves it as much as I do. I even used the pump to put some back in a 3.5oz tube that was almost gone. It's a favorite scent that can be used year round :)\", 'Very little lotion in the tube.', \"Who says this stuff is just for the hands?  I've been using this on my face after shaving for years and also on my dried up hands.  It's the best and smells great too.\", 'My favorite hand cream! Love it!', \"Best hand loton ever.  Bit pricey.  Has slight fragrance that wears off relatively fast.  I have issues with fragrance normslly but it's not been a problem.\", \"My favorite hand lotion. I wish it wasn't so expensive.\", 'Love this lotion, never feels greasy', \"Great product, well worth its price. Perfect to relieve cracked dry hands from winter's harshness!\", 'great stuff!!', 'A gift.', 'My favorite lotion and cheaper than from the store!', 'Bought as a gift. Great lotion.', 'smaller than expected but good product', 'Was a gift', 'This hand cream is amazing. My sister had a tube and when I needed some lotion she told me she only had this hand cream. I loved It right away. It made my hands so soft and it smells great. Bought a tube the next day.', 'This is my go-to winter hand cream. Amazing smell, such a nice creamy feel and keeps my hands very hydrated.', 'This is one of my favorite moisturizers.  It leaves a nice smooth, non-greasy layer on my rough dry hands.', \"First off, my metal bottle and the pump arrived totally undamaged and fully functioning (this was something others had complained about).\\n\\nThe scent is kind of a spicy herb smell.  Not overly mild, but very pleasant and not overpowering in my opinion.  I'd rank it as milder than the average Bath & Body Works lotion.  I'd love an even milder scent for my husband, but he doesn't hate it, and actually prefers it to the off-putting scent of things like unscented Lubriderm (which still has a strong odor).\\n\\nI'd had a tube of this about 15 or so years ago that lasted me for years and years, and thankfully this seems to be about the same product.  The formula is super thick and concentrated, and does not need to be applied quite as liberally as many other standard lotions.  Additionally, the formula doesn't cause as severe of pain when applied to skin that is literally splitting open from dryness.  This is a must have for people whose hands or other parts of the body start to bleed during the winter without constant attention.  I wouldn't recommend it for daily full body application due to the price and thickness, but it's great for targeting problem areas.\", 'very good', 'This handcream has a beautiful fragrance. It doesnt stay on or protect your hands through washing.  This size is quite small.', 'Nicely scented lotion. Small in size and great in the winter.', 'Bought for my daughter.', 'Great cream for the skin.', \"Maybe Im just not familiar with this brand, but if this is the type of fragrance they normally use...blech!  It might be a good cream but I had to wash my hands immediately (twice) to get the horrible smell off my hands so I couldn't tell.\", 'This is one of my favorite creams. Highly recommend!!! Keeps hands moisturizers for a long time. Worth every penny.', 'I simply love this lotion!  Originally, I received it as a gift.  Have been buying it ever since!', \"This actually helped fix my wife's hands, which have bothered her for years.  It is not greasy or water-downed.  It's pricey, but it's worth it.\", \"Love this lotion but it arrived dented all over.  Planned on giving as a gift but now I'll keep for myself.\", 'A favorite, love that this can be purchased online with quick delivery throughPrime', 'This is one of my favorite hand creams, ever. Smells lovely, like a light fresh herbal scent. Makes hands silky smooth with no greasy film.', 'The texture is great for dry \"winter skin\", and the scent is light and floral. I love this hand cream and buy it again and again.', 'Everything was great! Product arrived on time and was exactly as described and pictured! No complaints!', 'The bottle was deliver dented. It was a gift and was very disappointing. Great product. If you plan on buying this for a gift for someone like I did ...dont. Go on their real website.', 'Too little for the cost.', 'This is the best.', \"I've tried many, many different hand lotions, but have never found one that works as well as this one.  I put this on my hands (you don't need much), then put on a pair of spa gloves for about a 1/2 hours.  Awesome results!  Even better when you use the Gardener's Pumice first!!\", 'I got fooled by the size in the picture. I was really disappointed when I received it. overall I love the product', 'Wish it came in a bigger size', 'Best around.', 'Excellent product for Gardners who refuse to wear gloves and use their hands to work with soil.', 'A gift, good smell.', 'The best hand cream, with subtle fragrance.', 'Excellent product for working outdoors those little cuts and scrapes will heal quick using this cream.', \"So sorry that they changed the formula.  This was a 5-star item before they changed the ingredients.  It's just an okay product now...not worth the extra money it costs.  It's expensive.\", 'I have to wash my hands a lot for work and this is my favorite hand lotion after a long day. Works like magic and makes my hands feel really good.', \"The BEST hand cream you will ever use! Leaves your hands super soft and hydrated. It's like a drink of water for your hands.\", 'This is not an inexpensive product but it is the very best hand lotion that I\\'ve ever used.  When I pump a bit on my hands and spread it into my skin, my hands stop being dry and uncomfortable, although it\\'s a classic case of, \"I didn\\'t know that they hurt until they stopped hurting.\"  I\\'ve never used anything nearly as effective.  I\\'m male and often work outdoors and with my hands and caring for my skin is simply not something that I do.  This stuff, though, works.', 'My favorite lotion hands down (pun intended). Smells divine and makes my hands really soft. This is my third bottle. The last one lasted a year and it has been on my desk all that time...I use it every day. Great quality.', \"I was told by my dad to pick up a trade while I was an undergrad, and that trade was beauty. I worked at The Body Shop, Sephora, and MAC. Never had I had a problem with dry/cracked hands; however, my mother did and my beloved almond Body Shop hand cream wasn't enough.\\n\\nSomeone told me to get this product, so I got the smallest size, just in case. Wish I had bought her this size, as this was now her go-to!\\n\\nSkip forward over a decade, and I'm pregnant with my 1st and only child. I had the most difficult pregnancy, so I picked up sewing as a stress reliever (plus, I could make my son his own clothes and cloth diapers!) Little did I know that sewing DESTROYS your hands!\\n\\nYou cannot have a greasy hand cream while sewing, as it'll ruin your fabric. Also, you need fast access to your cream, and twist tops just don't do the job. Lastly, when your fingers, fingernails, cuticles crack and peel, it can snag your fabric and threads, destroying your garment.\\n\\nI remembered this product and quickly bought the tube. THANK THE LORD I REMEMBERED THIS STUFF!!! Saved my life and fabric!\\n\\nThe pump is the best price--dollar per ounce--and the most convenient. The smell is great and the product is soaked up by my abused hands in seconds. Never have I ruined a good piece of silk, and rarely do my fingers snag fabric. The only time it does happen is when I forget to moisturize my hands.\\n\\nMy mom works in electronics and is the lead of production. She files papers all day and sometimes has to handle electronic components to help others. Her hands would crack and bleed from her work. It was painful to look at! Plus, she, too, cannot use greasy products, as that would ruin the electronics.\\n\\nAs she worked along with C&E Gardner's, her hands became normal once again, no longer embarrassing her. We love this stuff, and if it came by the gallon, we'd invest in tubs!\"]\n"
     ]
    }
   ],
   "source": [
    "print(df['reviewText'].to_list()[:100])"
   ]
  },
  {
   "cell_type": "code",
   "execution_count": 110,
   "metadata": {},
   "outputs": [
    {
     "name": "stdout",
     "output_type": "stream",
     "text": [
      "torch.Size([21, 300])\n",
      "torch.Size([1, 300, 21])\n"
     ]
    },
    {
     "data": {
      "text/plain": [
       "torch.Size([1, 256, 9])"
      ]
     },
     "execution_count": 110,
     "metadata": {},
     "output_type": "execute_result"
    }
   ],
   "source": [
    "import torch\n",
    "vec = torch.rand((21 , 300)) \n",
    "print(vec.shape) # -> torch.Size([21, 300])\n",
    "conv1 = torch.nn.Conv1d(in_channels=300, out_channels=256, kernel_size=5, stride=2, padding='valid')\n",
    "vec2 = vec.unsqueeze(0).transpose(1,2) \n",
    "\n",
    "print(vec2.shape) # -> torch.Size([1, 256, 9])\n",
    "conv1(vec2).shape #-> torch.Size([1, 256, 9])\n"
   ]
  },
  {
   "cell_type": "code",
   "execution_count": 106,
   "metadata": {},
   "outputs": [
    {
     "data": {
      "text/plain": [
       "torch.Size([1, 21, 300])"
      ]
     },
     "execution_count": 106,
     "metadata": {},
     "output_type": "execute_result"
    }
   ],
   "source": [
    "vec2.shape"
   ]
  },
  {
   "cell_type": "code",
   "execution_count": null,
   "metadata": {},
   "outputs": [],
   "source": []
  }
 ],
 "metadata": {
  "kernelspec": {
   "display_name": "Python 3",
   "language": "python",
   "name": "python3"
  },
  "language_info": {
   "codemirror_mode": {
    "name": "ipython",
    "version": 3
   },
   "file_extension": ".py",
   "mimetype": "text/x-python",
   "name": "python",
   "nbconvert_exporter": "python",
   "pygments_lexer": "ipython3",
   "version": "3.7.6"
  }
 },
 "nbformat": 4,
 "nbformat_minor": 4
}
